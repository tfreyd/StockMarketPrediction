{
 "cells": [
  {
   "cell_type": "code",
   "execution_count": 101,
   "metadata": {
    "id": "GBtdv4iVB-gX"
   },
   "outputs": [],
   "source": [
    "import pandas as pd\n",
    "from datetime import datetime "
   ]
  },
  {
   "cell_type": "code",
   "execution_count": 102,
   "metadata": {
    "id": "6lCws_lYADYy"
   },
   "outputs": [],
   "source": [
    "data=pd.read_csv('sphist.csv')"
   ]
  },
  {
   "cell_type": "code",
   "execution_count": 103,
   "metadata": {
    "colab": {
     "base_uri": "https://localhost:8080/",
     "height": 204
    },
    "executionInfo": {
     "elapsed": 1546,
     "status": "ok",
     "timestamp": 1606406376207,
     "user": {
      "displayName": "Thibaud Freyd",
      "photoUrl": "https://lh3.googleusercontent.com/a-/AOh14Gj4FSsAn36qN8GhyIglaEUhsQLXuERPYTjndXzdHsg=s64",
      "userId": "15339064382210101623"
     },
     "user_tz": -60
    },
    "id": "epCfCaUlAYIt",
    "outputId": "2bfb624d-b11d-4f74-a564-407faf63ca37"
   },
   "outputs": [
    {
     "data": {
      "text/html": [
       "<div>\n",
       "<style scoped>\n",
       "    .dataframe tbody tr th:only-of-type {\n",
       "        vertical-align: middle;\n",
       "    }\n",
       "\n",
       "    .dataframe tbody tr th {\n",
       "        vertical-align: top;\n",
       "    }\n",
       "\n",
       "    .dataframe thead th {\n",
       "        text-align: right;\n",
       "    }\n",
       "</style>\n",
       "<table border=\"1\" class=\"dataframe\">\n",
       "  <thead>\n",
       "    <tr style=\"text-align: right;\">\n",
       "      <th></th>\n",
       "      <th>Date</th>\n",
       "      <th>Open</th>\n",
       "      <th>High</th>\n",
       "      <th>Low</th>\n",
       "      <th>Close</th>\n",
       "      <th>Volume</th>\n",
       "      <th>Adj Close</th>\n",
       "    </tr>\n",
       "  </thead>\n",
       "  <tbody>\n",
       "    <tr>\n",
       "      <th>0</th>\n",
       "      <td>2015-12-07</td>\n",
       "      <td>2090.419922</td>\n",
       "      <td>2090.419922</td>\n",
       "      <td>2066.780029</td>\n",
       "      <td>2077.070068</td>\n",
       "      <td>4.043820e+09</td>\n",
       "      <td>2077.070068</td>\n",
       "    </tr>\n",
       "    <tr>\n",
       "      <th>1</th>\n",
       "      <td>2015-12-04</td>\n",
       "      <td>2051.239990</td>\n",
       "      <td>2093.840088</td>\n",
       "      <td>2051.239990</td>\n",
       "      <td>2091.689941</td>\n",
       "      <td>4.214910e+09</td>\n",
       "      <td>2091.689941</td>\n",
       "    </tr>\n",
       "    <tr>\n",
       "      <th>2</th>\n",
       "      <td>2015-12-03</td>\n",
       "      <td>2080.709961</td>\n",
       "      <td>2085.000000</td>\n",
       "      <td>2042.349976</td>\n",
       "      <td>2049.620117</td>\n",
       "      <td>4.306490e+09</td>\n",
       "      <td>2049.620117</td>\n",
       "    </tr>\n",
       "    <tr>\n",
       "      <th>3</th>\n",
       "      <td>2015-12-02</td>\n",
       "      <td>2101.709961</td>\n",
       "      <td>2104.270020</td>\n",
       "      <td>2077.110107</td>\n",
       "      <td>2079.510010</td>\n",
       "      <td>3.950640e+09</td>\n",
       "      <td>2079.510010</td>\n",
       "    </tr>\n",
       "    <tr>\n",
       "      <th>4</th>\n",
       "      <td>2015-12-01</td>\n",
       "      <td>2082.929932</td>\n",
       "      <td>2103.370117</td>\n",
       "      <td>2082.929932</td>\n",
       "      <td>2102.629883</td>\n",
       "      <td>3.712120e+09</td>\n",
       "      <td>2102.629883</td>\n",
       "    </tr>\n",
       "  </tbody>\n",
       "</table>\n",
       "</div>"
      ],
      "text/plain": [
       "         Date         Open         High          Low        Close  \\\n",
       "0  2015-12-07  2090.419922  2090.419922  2066.780029  2077.070068   \n",
       "1  2015-12-04  2051.239990  2093.840088  2051.239990  2091.689941   \n",
       "2  2015-12-03  2080.709961  2085.000000  2042.349976  2049.620117   \n",
       "3  2015-12-02  2101.709961  2104.270020  2077.110107  2079.510010   \n",
       "4  2015-12-01  2082.929932  2103.370117  2082.929932  2102.629883   \n",
       "\n",
       "         Volume    Adj Close  \n",
       "0  4.043820e+09  2077.070068  \n",
       "1  4.214910e+09  2091.689941  \n",
       "2  4.306490e+09  2049.620117  \n",
       "3  3.950640e+09  2079.510010  \n",
       "4  3.712120e+09  2102.629883  "
      ]
     },
     "execution_count": 103,
     "metadata": {},
     "output_type": "execute_result"
    }
   ],
   "source": [
    "data.head()"
   ]
  },
  {
   "cell_type": "code",
   "execution_count": 104,
   "metadata": {
    "colab": {
     "base_uri": "https://localhost:8080/"
    },
    "executionInfo": {
     "elapsed": 1532,
     "status": "ok",
     "timestamp": 1606406376209,
     "user": {
      "displayName": "Thibaud Freyd",
      "photoUrl": "https://lh3.googleusercontent.com/a-/AOh14Gj4FSsAn36qN8GhyIglaEUhsQLXuERPYTjndXzdHsg=s64",
      "userId": "15339064382210101623"
     },
     "user_tz": -60
    },
    "id": "RPLX9XEJBLSk",
    "outputId": "6cc9dfd8-d5ec-44f5-88ce-3f7dc5a7961a"
   },
   "outputs": [
    {
     "data": {
      "text/plain": [
       "Index(['Date', 'Open', 'High', 'Low', 'Close', 'Volume', 'Adj Close'], dtype='object')"
      ]
     },
     "execution_count": 104,
     "metadata": {},
     "output_type": "execute_result"
    }
   ],
   "source": [
    "data.columns"
   ]
  },
  {
   "cell_type": "code",
   "execution_count": 105,
   "metadata": {
    "id": "mBOIG_UfE4Pi"
   },
   "outputs": [],
   "source": [
    "#fixing date\n",
    "data['Date']=pd.to_datetime(data['Date'])"
   ]
  },
  {
   "cell_type": "code",
   "execution_count": 106,
   "metadata": {},
   "outputs": [
    {
     "data": {
      "text/html": [
       "<div>\n",
       "<style scoped>\n",
       "    .dataframe tbody tr th:only-of-type {\n",
       "        vertical-align: middle;\n",
       "    }\n",
       "\n",
       "    .dataframe tbody tr th {\n",
       "        vertical-align: top;\n",
       "    }\n",
       "\n",
       "    .dataframe thead th {\n",
       "        text-align: right;\n",
       "    }\n",
       "</style>\n",
       "<table border=\"1\" class=\"dataframe\">\n",
       "  <thead>\n",
       "    <tr style=\"text-align: right;\">\n",
       "      <th></th>\n",
       "      <th>Date</th>\n",
       "      <th>Open</th>\n",
       "      <th>High</th>\n",
       "      <th>Low</th>\n",
       "      <th>Close</th>\n",
       "      <th>Volume</th>\n",
       "      <th>Adj Close</th>\n",
       "    </tr>\n",
       "  </thead>\n",
       "  <tbody>\n",
       "    <tr>\n",
       "      <th>count</th>\n",
       "      <td>16590</td>\n",
       "      <td>16590.000000</td>\n",
       "      <td>16590.000000</td>\n",
       "      <td>16590.000000</td>\n",
       "      <td>16590.000000</td>\n",
       "      <td>1.659000e+04</td>\n",
       "      <td>16590.000000</td>\n",
       "    </tr>\n",
       "    <tr>\n",
       "      <th>unique</th>\n",
       "      <td>16590</td>\n",
       "      <td>NaN</td>\n",
       "      <td>NaN</td>\n",
       "      <td>NaN</td>\n",
       "      <td>NaN</td>\n",
       "      <td>NaN</td>\n",
       "      <td>NaN</td>\n",
       "    </tr>\n",
       "    <tr>\n",
       "      <th>top</th>\n",
       "      <td>1967-09-20 00:00:00</td>\n",
       "      <td>NaN</td>\n",
       "      <td>NaN</td>\n",
       "      <td>NaN</td>\n",
       "      <td>NaN</td>\n",
       "      <td>NaN</td>\n",
       "      <td>NaN</td>\n",
       "    </tr>\n",
       "    <tr>\n",
       "      <th>freq</th>\n",
       "      <td>1</td>\n",
       "      <td>NaN</td>\n",
       "      <td>NaN</td>\n",
       "      <td>NaN</td>\n",
       "      <td>NaN</td>\n",
       "      <td>NaN</td>\n",
       "      <td>NaN</td>\n",
       "    </tr>\n",
       "    <tr>\n",
       "      <th>first</th>\n",
       "      <td>1950-01-03 00:00:00</td>\n",
       "      <td>NaN</td>\n",
       "      <td>NaN</td>\n",
       "      <td>NaN</td>\n",
       "      <td>NaN</td>\n",
       "      <td>NaN</td>\n",
       "      <td>NaN</td>\n",
       "    </tr>\n",
       "    <tr>\n",
       "      <th>last</th>\n",
       "      <td>2015-12-07 00:00:00</td>\n",
       "      <td>NaN</td>\n",
       "      <td>NaN</td>\n",
       "      <td>NaN</td>\n",
       "      <td>NaN</td>\n",
       "      <td>NaN</td>\n",
       "      <td>NaN</td>\n",
       "    </tr>\n",
       "    <tr>\n",
       "      <th>mean</th>\n",
       "      <td>NaN</td>\n",
       "      <td>482.570941</td>\n",
       "      <td>485.624237</td>\n",
       "      <td>479.367501</td>\n",
       "      <td>482.692491</td>\n",
       "      <td>7.940099e+08</td>\n",
       "      <td>482.692491</td>\n",
       "    </tr>\n",
       "    <tr>\n",
       "      <th>std</th>\n",
       "      <td>NaN</td>\n",
       "      <td>554.889186</td>\n",
       "      <td>558.186049</td>\n",
       "      <td>551.367625</td>\n",
       "      <td>555.007904</td>\n",
       "      <td>1.456582e+09</td>\n",
       "      <td>555.007904</td>\n",
       "    </tr>\n",
       "    <tr>\n",
       "      <th>min</th>\n",
       "      <td>NaN</td>\n",
       "      <td>16.660000</td>\n",
       "      <td>16.660000</td>\n",
       "      <td>16.660000</td>\n",
       "      <td>16.660000</td>\n",
       "      <td>6.800000e+05</td>\n",
       "      <td>16.660000</td>\n",
       "    </tr>\n",
       "    <tr>\n",
       "      <th>25%</th>\n",
       "      <td>NaN</td>\n",
       "      <td>83.860001</td>\n",
       "      <td>84.594997</td>\n",
       "      <td>83.139997</td>\n",
       "      <td>83.860001</td>\n",
       "      <td>7.610000e+06</td>\n",
       "      <td>83.860001</td>\n",
       "    </tr>\n",
       "    <tr>\n",
       "      <th>50%</th>\n",
       "      <td>NaN</td>\n",
       "      <td>144.049995</td>\n",
       "      <td>145.294998</td>\n",
       "      <td>143.105004</td>\n",
       "      <td>144.264999</td>\n",
       "      <td>7.170500e+07</td>\n",
       "      <td>144.264999</td>\n",
       "    </tr>\n",
       "    <tr>\n",
       "      <th>75%</th>\n",
       "      <td>NaN</td>\n",
       "      <td>950.722488</td>\n",
       "      <td>956.665024</td>\n",
       "      <td>941.969986</td>\n",
       "      <td>950.797500</td>\n",
       "      <td>7.866750e+08</td>\n",
       "      <td>950.797500</td>\n",
       "    </tr>\n",
       "    <tr>\n",
       "      <th>max</th>\n",
       "      <td>NaN</td>\n",
       "      <td>2130.360107</td>\n",
       "      <td>2134.719971</td>\n",
       "      <td>2126.060059</td>\n",
       "      <td>2130.820068</td>\n",
       "      <td>1.145623e+10</td>\n",
       "      <td>2130.820068</td>\n",
       "    </tr>\n",
       "  </tbody>\n",
       "</table>\n",
       "</div>"
      ],
      "text/plain": [
       "                       Date          Open          High           Low  \\\n",
       "count                 16590  16590.000000  16590.000000  16590.000000   \n",
       "unique                16590           NaN           NaN           NaN   \n",
       "top     1967-09-20 00:00:00           NaN           NaN           NaN   \n",
       "freq                      1           NaN           NaN           NaN   \n",
       "first   1950-01-03 00:00:00           NaN           NaN           NaN   \n",
       "last    2015-12-07 00:00:00           NaN           NaN           NaN   \n",
       "mean                    NaN    482.570941    485.624237    479.367501   \n",
       "std                     NaN    554.889186    558.186049    551.367625   \n",
       "min                     NaN     16.660000     16.660000     16.660000   \n",
       "25%                     NaN     83.860001     84.594997     83.139997   \n",
       "50%                     NaN    144.049995    145.294998    143.105004   \n",
       "75%                     NaN    950.722488    956.665024    941.969986   \n",
       "max                     NaN   2130.360107   2134.719971   2126.060059   \n",
       "\n",
       "               Close        Volume     Adj Close  \n",
       "count   16590.000000  1.659000e+04  16590.000000  \n",
       "unique           NaN           NaN           NaN  \n",
       "top              NaN           NaN           NaN  \n",
       "freq             NaN           NaN           NaN  \n",
       "first            NaN           NaN           NaN  \n",
       "last             NaN           NaN           NaN  \n",
       "mean      482.692491  7.940099e+08    482.692491  \n",
       "std       555.007904  1.456582e+09    555.007904  \n",
       "min        16.660000  6.800000e+05     16.660000  \n",
       "25%        83.860001  7.610000e+06     83.860001  \n",
       "50%       144.264999  7.170500e+07    144.264999  \n",
       "75%       950.797500  7.866750e+08    950.797500  \n",
       "max      2130.820068  1.145623e+10   2130.820068  "
      ]
     },
     "execution_count": 106,
     "metadata": {},
     "output_type": "execute_result"
    }
   ],
   "source": [
    "data.describe(include='all')"
   ]
  },
  {
   "cell_type": "code",
   "execution_count": 107,
   "metadata": {
    "colab": {
     "base_uri": "https://localhost:8080/"
    },
    "executionInfo": {
     "elapsed": 1524,
     "status": "ok",
     "timestamp": 1606406376210,
     "user": {
      "displayName": "Thibaud Freyd",
      "photoUrl": "https://lh3.googleusercontent.com/a-/AOh14Gj4FSsAn36qN8GhyIglaEUhsQLXuERPYTjndXzdHsg=s64",
      "userId": "15339064382210101623"
     },
     "user_tz": -60
    },
    "id": "NLgPAmx-BYNV",
    "outputId": "419ad1d5-1ae4-4b06-ef4a-cd1ac2266cd6"
   },
   "outputs": [
    {
     "data": {
      "text/plain": [
       "False    16417\n",
       "True       173\n",
       "Name: Date, dtype: int64"
      ]
     },
     "execution_count": 107,
     "metadata": {},
     "output_type": "execute_result"
    }
   ],
   "source": [
    "#we set a date test of the 1st of april 2015 \n",
    "#we do not use it\n",
    "mask_date =data['Date'] > datetime(year=2015, month=4, day=1)\n",
    "mask_date.value_counts()"
   ]
  },
  {
   "cell_type": "code",
   "execution_count": 108,
   "metadata": {
    "id": "iES5QCE8Bp67"
   },
   "outputs": [],
   "source": [
    "#sorting dataframe by date in ascending order\n",
    "data=data.sort_values('Date')"
   ]
  },
  {
   "cell_type": "code",
   "execution_count": 109,
   "metadata": {
    "colab": {
     "base_uri": "https://localhost:8080/",
     "height": 204
    },
    "executionInfo": {
     "elapsed": 1777,
     "status": "ok",
     "timestamp": 1606406376475,
     "user": {
      "displayName": "Thibaud Freyd",
      "photoUrl": "https://lh3.googleusercontent.com/a-/AOh14Gj4FSsAn36qN8GhyIglaEUhsQLXuERPYTjndXzdHsg=s64",
      "userId": "15339064382210101623"
     },
     "user_tz": -60
    },
    "id": "Zik-5QidEXSu",
    "outputId": "6af70ec0-16d6-489b-cab1-035a9b274ce8"
   },
   "outputs": [
    {
     "data": {
      "text/html": [
       "<div>\n",
       "<style scoped>\n",
       "    .dataframe tbody tr th:only-of-type {\n",
       "        vertical-align: middle;\n",
       "    }\n",
       "\n",
       "    .dataframe tbody tr th {\n",
       "        vertical-align: top;\n",
       "    }\n",
       "\n",
       "    .dataframe thead th {\n",
       "        text-align: right;\n",
       "    }\n",
       "</style>\n",
       "<table border=\"1\" class=\"dataframe\">\n",
       "  <thead>\n",
       "    <tr style=\"text-align: right;\">\n",
       "      <th></th>\n",
       "      <th>Date</th>\n",
       "      <th>Open</th>\n",
       "      <th>High</th>\n",
       "      <th>Low</th>\n",
       "      <th>Close</th>\n",
       "      <th>Volume</th>\n",
       "      <th>Adj Close</th>\n",
       "    </tr>\n",
       "  </thead>\n",
       "  <tbody>\n",
       "    <tr>\n",
       "      <th>16589</th>\n",
       "      <td>1950-01-03</td>\n",
       "      <td>16.66</td>\n",
       "      <td>16.66</td>\n",
       "      <td>16.66</td>\n",
       "      <td>16.66</td>\n",
       "      <td>1260000.0</td>\n",
       "      <td>16.66</td>\n",
       "    </tr>\n",
       "    <tr>\n",
       "      <th>16588</th>\n",
       "      <td>1950-01-04</td>\n",
       "      <td>16.85</td>\n",
       "      <td>16.85</td>\n",
       "      <td>16.85</td>\n",
       "      <td>16.85</td>\n",
       "      <td>1890000.0</td>\n",
       "      <td>16.85</td>\n",
       "    </tr>\n",
       "    <tr>\n",
       "      <th>16587</th>\n",
       "      <td>1950-01-05</td>\n",
       "      <td>16.93</td>\n",
       "      <td>16.93</td>\n",
       "      <td>16.93</td>\n",
       "      <td>16.93</td>\n",
       "      <td>2550000.0</td>\n",
       "      <td>16.93</td>\n",
       "    </tr>\n",
       "    <tr>\n",
       "      <th>16586</th>\n",
       "      <td>1950-01-06</td>\n",
       "      <td>16.98</td>\n",
       "      <td>16.98</td>\n",
       "      <td>16.98</td>\n",
       "      <td>16.98</td>\n",
       "      <td>2010000.0</td>\n",
       "      <td>16.98</td>\n",
       "    </tr>\n",
       "    <tr>\n",
       "      <th>16585</th>\n",
       "      <td>1950-01-09</td>\n",
       "      <td>17.08</td>\n",
       "      <td>17.08</td>\n",
       "      <td>17.08</td>\n",
       "      <td>17.08</td>\n",
       "      <td>2520000.0</td>\n",
       "      <td>17.08</td>\n",
       "    </tr>\n",
       "  </tbody>\n",
       "</table>\n",
       "</div>"
      ],
      "text/plain": [
       "            Date   Open   High    Low  Close     Volume  Adj Close\n",
       "16589 1950-01-03  16.66  16.66  16.66  16.66  1260000.0      16.66\n",
       "16588 1950-01-04  16.85  16.85  16.85  16.85  1890000.0      16.85\n",
       "16587 1950-01-05  16.93  16.93  16.93  16.93  2550000.0      16.93\n",
       "16586 1950-01-06  16.98  16.98  16.98  16.98  2010000.0      16.98\n",
       "16585 1950-01-09  17.08  17.08  17.08  17.08  2520000.0      17.08"
      ]
     },
     "execution_count": 109,
     "metadata": {},
     "output_type": "execute_result"
    }
   ],
   "source": [
    "data.head()"
   ]
  },
  {
   "cell_type": "markdown",
   "metadata": {
    "id": "Kq-ra8SjFQe2"
   },
   "source": [
    "## creation of new indicators\n",
    "We want to create a new indicators (features) that take the average of the last x days, but careful, on the actual row, do not use the price of the day as this is what we want to compare the average to. \n",
    "the close column is supposed the price.\n",
    "\n",
    "\n",
    "![Screenshot 2020-11-25 212747.png](data:image/png;base64,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)\n",
    "\n",
    "\n",
    "we will compute for 5, 30 and 365 days\n",
    "\n",
    "There are a few different ways to do this:\n",
    "\n",
    "- You can use a for loop along with the [iterrows](http://pandas.pydata.org/pandas-docs/stable/generated/pandas.DataFrame.iterrows.html) method to loop over the rows in the DataFrame and compute the indicators. This is the recommended way, as it's a bit simpler to understand what's happening. Since you'll be looping over all of the rows, for any date that comes before there is enough historical data to compute an indicator, just fill in 0.\n",
    "- Pandas has some [time series tools](http://pandas.pydata.org/pandas-docs/stable/computation.html) that can help, including the [rolling](https://pandas.pydata.org/pandas-docs/stable/generated/pandas.DataFrame.rolling.html) function, which will do most of the hard computation for you. Set the window equal to the number of trading days in the past you want to use to compute the indicators. This will add in NaN values for any row where there aren't enough historical trading days to do the computation. Note: There is a giant caveat here, which is that the rolling mean will use the current day's price. You'll need to reindex the resulting series to shift all the values \"forward\" one day. For example, the rolling mean calculated for 1950-01-03 will need to be assigned to 1950-01-04, and so on. You can use the shift method on Dataframes to do this.\n"
   ]
  },
  {
   "cell_type": "code",
   "execution_count": 110,
   "metadata": {
    "id": "IbNKT4cPJPMf"
   },
   "outputs": [],
   "source": [
    "#while we through through each rows\n",
    "#we compute the mean of the x last days close pricebefore the rows analysed easy peasy\n",
    "\n",
    "for n in [5,30,365]:\n",
    "    avrg_col_name='avrg_last_'+str(n)+'days' #mean price columns\n",
    "    vol_avrg_col_name='Vol_avg_last'+str(n)+'days' #Vol mean columns\n",
    "    for index, row in data.iterrows():\n",
    "        start_index = index + n   #checking we have enough days before the actual date\n",
    "        if start_index not in data.index:\n",
    "            data.loc[index, avrg_col_name] = 0     #otherwise 0\n",
    "            data.loc[index, vol_avrg_col_name]=0\n",
    "        else:\n",
    "            #computing of the mean of close price of the n days before\n",
    "            n_days_means=data.loc[index+n:index+1]['Close'].mean()\n",
    "            data.loc[index,avrg_col_name]=n_days_means\n",
    "            #computing the mean of the Volume of the n days before\n",
    "            volume_mean_n_days=data.loc[index+n:index+1]['Volume'].mean()\n",
    "            data.loc[index,vol_avrg_col_name]=volume_mean_n_days"
   ]
  },
  {
   "cell_type": "code",
   "execution_count": 111,
   "metadata": {
    "id": "01wQVZFJZkln"
   },
   "outputs": [],
   "source": [
    "#computing the std dev for for pric and volume for 5,30, and 365 days\n",
    "for n in [5,30,365]:\n",
    "    std_col_name='std_last_'+str(n)+'days'\n",
    "    std_vol_col_name='std_vol_last'+str(n)+'days' #Vol mean columns\n",
    "    for index, row in data.iterrows():\n",
    "        start_index = index + n   #checking we have enough days before the actual date\n",
    "        if start_index not in data.index:\n",
    "            data.loc[index, std_col_name] = 0     #otherwise 0\n",
    "            data.loc[index, std_vol_col_name]=0\n",
    "        else:\n",
    "            #computing of the mean of close price of the n days before\n",
    "            n_days_std=data.loc[index+n:index+1]['Close'].std()\n",
    "            data.loc[index,std_col_name]=n_days_std\n",
    "            #computing the std of the Volume of the n days before\n",
    "            volume_std_n_days=data.loc[index+n:index+1]['Volume'].std()\n",
    "            data.loc[index,std_vol_col_name]=volume_std_n_days"
   ]
  },
  {
   "cell_type": "code",
   "execution_count": 112,
   "metadata": {
    "colab": {
     "base_uri": "https://localhost:8080/",
     "height": 326
    },
    "executionInfo": {
     "elapsed": 996,
     "status": "ok",
     "timestamp": 1606409272155,
     "user": {
      "displayName": "Thibaud Freyd",
      "photoUrl": "https://lh3.googleusercontent.com/a-/AOh14Gj4FSsAn36qN8GhyIglaEUhsQLXuERPYTjndXzdHsg=s64",
      "userId": "15339064382210101623"
     },
     "user_tz": -60
    },
    "id": "3bzHsDL-Sze2",
    "outputId": "98bda84a-f322-4a3c-afe3-6c0cc5fa57ad"
   },
   "outputs": [
    {
     "data": {
      "text/html": [
       "<div>\n",
       "<style scoped>\n",
       "    .dataframe tbody tr th:only-of-type {\n",
       "        vertical-align: middle;\n",
       "    }\n",
       "\n",
       "    .dataframe tbody tr th {\n",
       "        vertical-align: top;\n",
       "    }\n",
       "\n",
       "    .dataframe thead th {\n",
       "        text-align: right;\n",
       "    }\n",
       "</style>\n",
       "<table border=\"1\" class=\"dataframe\">\n",
       "  <thead>\n",
       "    <tr style=\"text-align: right;\">\n",
       "      <th></th>\n",
       "      <th>Date</th>\n",
       "      <th>Open</th>\n",
       "      <th>High</th>\n",
       "      <th>Low</th>\n",
       "      <th>Close</th>\n",
       "      <th>Volume</th>\n",
       "      <th>Adj Close</th>\n",
       "      <th>avrg_last_5days</th>\n",
       "      <th>Vol_avg_last5days</th>\n",
       "      <th>avrg_last_30days</th>\n",
       "      <th>Vol_avg_last30days</th>\n",
       "      <th>avrg_last_365days</th>\n",
       "      <th>Vol_avg_last365days</th>\n",
       "      <th>std_last_5days</th>\n",
       "      <th>std_vol_last5days</th>\n",
       "      <th>std_last_30days</th>\n",
       "      <th>std_vol_last30days</th>\n",
       "      <th>std_last_365days</th>\n",
       "      <th>std_vol_last365days</th>\n",
       "    </tr>\n",
       "  </thead>\n",
       "  <tbody>\n",
       "    <tr>\n",
       "      <th>16589</th>\n",
       "      <td>1950-01-03</td>\n",
       "      <td>16.66</td>\n",
       "      <td>16.66</td>\n",
       "      <td>16.66</td>\n",
       "      <td>16.66</td>\n",
       "      <td>1260000.0</td>\n",
       "      <td>16.66</td>\n",
       "      <td>0.0</td>\n",
       "      <td>0.0</td>\n",
       "      <td>0.0</td>\n",
       "      <td>0.0</td>\n",
       "      <td>0.0</td>\n",
       "      <td>0.0</td>\n",
       "      <td>0.0</td>\n",
       "      <td>0.0</td>\n",
       "      <td>0.0</td>\n",
       "      <td>0.0</td>\n",
       "      <td>0.0</td>\n",
       "      <td>0.0</td>\n",
       "    </tr>\n",
       "    <tr>\n",
       "      <th>16588</th>\n",
       "      <td>1950-01-04</td>\n",
       "      <td>16.85</td>\n",
       "      <td>16.85</td>\n",
       "      <td>16.85</td>\n",
       "      <td>16.85</td>\n",
       "      <td>1890000.0</td>\n",
       "      <td>16.85</td>\n",
       "      <td>0.0</td>\n",
       "      <td>0.0</td>\n",
       "      <td>0.0</td>\n",
       "      <td>0.0</td>\n",
       "      <td>0.0</td>\n",
       "      <td>0.0</td>\n",
       "      <td>0.0</td>\n",
       "      <td>0.0</td>\n",
       "      <td>0.0</td>\n",
       "      <td>0.0</td>\n",
       "      <td>0.0</td>\n",
       "      <td>0.0</td>\n",
       "    </tr>\n",
       "    <tr>\n",
       "      <th>16587</th>\n",
       "      <td>1950-01-05</td>\n",
       "      <td>16.93</td>\n",
       "      <td>16.93</td>\n",
       "      <td>16.93</td>\n",
       "      <td>16.93</td>\n",
       "      <td>2550000.0</td>\n",
       "      <td>16.93</td>\n",
       "      <td>0.0</td>\n",
       "      <td>0.0</td>\n",
       "      <td>0.0</td>\n",
       "      <td>0.0</td>\n",
       "      <td>0.0</td>\n",
       "      <td>0.0</td>\n",
       "      <td>0.0</td>\n",
       "      <td>0.0</td>\n",
       "      <td>0.0</td>\n",
       "      <td>0.0</td>\n",
       "      <td>0.0</td>\n",
       "      <td>0.0</td>\n",
       "    </tr>\n",
       "    <tr>\n",
       "      <th>16586</th>\n",
       "      <td>1950-01-06</td>\n",
       "      <td>16.98</td>\n",
       "      <td>16.98</td>\n",
       "      <td>16.98</td>\n",
       "      <td>16.98</td>\n",
       "      <td>2010000.0</td>\n",
       "      <td>16.98</td>\n",
       "      <td>0.0</td>\n",
       "      <td>0.0</td>\n",
       "      <td>0.0</td>\n",
       "      <td>0.0</td>\n",
       "      <td>0.0</td>\n",
       "      <td>0.0</td>\n",
       "      <td>0.0</td>\n",
       "      <td>0.0</td>\n",
       "      <td>0.0</td>\n",
       "      <td>0.0</td>\n",
       "      <td>0.0</td>\n",
       "      <td>0.0</td>\n",
       "    </tr>\n",
       "    <tr>\n",
       "      <th>16585</th>\n",
       "      <td>1950-01-09</td>\n",
       "      <td>17.08</td>\n",
       "      <td>17.08</td>\n",
       "      <td>17.08</td>\n",
       "      <td>17.08</td>\n",
       "      <td>2520000.0</td>\n",
       "      <td>17.08</td>\n",
       "      <td>0.0</td>\n",
       "      <td>0.0</td>\n",
       "      <td>0.0</td>\n",
       "      <td>0.0</td>\n",
       "      <td>0.0</td>\n",
       "      <td>0.0</td>\n",
       "      <td>0.0</td>\n",
       "      <td>0.0</td>\n",
       "      <td>0.0</td>\n",
       "      <td>0.0</td>\n",
       "      <td>0.0</td>\n",
       "      <td>0.0</td>\n",
       "    </tr>\n",
       "  </tbody>\n",
       "</table>\n",
       "</div>"
      ],
      "text/plain": [
       "            Date   Open   High    Low  Close     Volume  Adj Close  \\\n",
       "16589 1950-01-03  16.66  16.66  16.66  16.66  1260000.0      16.66   \n",
       "16588 1950-01-04  16.85  16.85  16.85  16.85  1890000.0      16.85   \n",
       "16587 1950-01-05  16.93  16.93  16.93  16.93  2550000.0      16.93   \n",
       "16586 1950-01-06  16.98  16.98  16.98  16.98  2010000.0      16.98   \n",
       "16585 1950-01-09  17.08  17.08  17.08  17.08  2520000.0      17.08   \n",
       "\n",
       "       avrg_last_5days  Vol_avg_last5days  avrg_last_30days  \\\n",
       "16589              0.0                0.0               0.0   \n",
       "16588              0.0                0.0               0.0   \n",
       "16587              0.0                0.0               0.0   \n",
       "16586              0.0                0.0               0.0   \n",
       "16585              0.0                0.0               0.0   \n",
       "\n",
       "       Vol_avg_last30days  avrg_last_365days  Vol_avg_last365days  \\\n",
       "16589                 0.0                0.0                  0.0   \n",
       "16588                 0.0                0.0                  0.0   \n",
       "16587                 0.0                0.0                  0.0   \n",
       "16586                 0.0                0.0                  0.0   \n",
       "16585                 0.0                0.0                  0.0   \n",
       "\n",
       "       std_last_5days  std_vol_last5days  std_last_30days  std_vol_last30days  \\\n",
       "16589             0.0                0.0              0.0                 0.0   \n",
       "16588             0.0                0.0              0.0                 0.0   \n",
       "16587             0.0                0.0              0.0                 0.0   \n",
       "16586             0.0                0.0              0.0                 0.0   \n",
       "16585             0.0                0.0              0.0                 0.0   \n",
       "\n",
       "       std_last_365days  std_vol_last365days  \n",
       "16589               0.0                  0.0  \n",
       "16588               0.0                  0.0  \n",
       "16587               0.0                  0.0  \n",
       "16586               0.0                  0.0  \n",
       "16585               0.0                  0.0  "
      ]
     },
     "execution_count": 112,
     "metadata": {},
     "output_type": "execute_result"
    }
   ],
   "source": [
    "data.head()"
   ]
  },
  {
   "cell_type": "code",
   "execution_count": 113,
   "metadata": {
    "colab": {
     "base_uri": "https://localhost:8080/",
     "height": 986
    },
    "executionInfo": {
     "elapsed": 1797,
     "status": "ok",
     "timestamp": 1606409073680,
     "user": {
      "displayName": "Thibaud Freyd",
      "photoUrl": "https://lh3.googleusercontent.com/a-/AOh14Gj4FSsAn36qN8GhyIglaEUhsQLXuERPYTjndXzdHsg=s64",
      "userId": "15339064382210101623"
     },
     "user_tz": -60
    },
    "id": "JpGFnu7QZczL",
    "outputId": "7e955e97-d14a-4d65-d750-932c12021247"
   },
   "outputs": [
    {
     "data": {
      "text/plain": [
       "<matplotlib.axes._subplots.AxesSubplot at 0x7fd0c8a0e590>"
      ]
     },
     "execution_count": 113,
     "metadata": {},
     "output_type": "execute_result"
    },
    {
     "data": {
      "image/png": "[encoded data removed]",
      "text/plain": [
       "<Figure size 720x432 with 1 Axes>"
      ]
     },
     "metadata": {
      "needs_background": "light"
     },
     "output_type": "display_data"
    },
    {
     "data": {
      "image/png": "[encoded data removed]",
      "text/plain": [
       "<Figure size 720x432 with 1 Axes>"
      ]
     },
     "metadata": {
      "needs_background": "light"
     },
     "output_type": "display_data"
    },
    {
     "data": {
      "image/png": "[encoded data removed]",
      "text/plain": [
       "<Figure size 432x288 with 1 Axes>"
      ]
     },
     "metadata": {
      "needs_background": "light"
     },
     "output_type": "display_data"
    }
   ],
   "source": [
    "data.plot('Date','avrg_last_5days',figsize=(10,6))\n",
    "data.plot('Date','std_last_5days',figsize=(10,6))\n",
    "data.plot('Date','Close')"
   ]
  },
  {
   "cell_type": "markdown",
   "metadata": {
    "id": "ZzL_ko4Rc20l"
   },
   "source": [
    "## split of the dataset in train/test \n",
    "we are interested only by data after 1951-03-1 as otherwise they are not enough data to compute all the indicators (365 days)"
   ]
  },
  {
   "cell_type": "code",
   "execution_count": 114,
   "metadata": {
    "colab": {
     "base_uri": "https://localhost:8080/"
    },
    "executionInfo": {
     "elapsed": 716,
     "status": "ok",
     "timestamp": 1606409513736,
     "user": {
      "displayName": "Thibaud Freyd",
      "photoUrl": "https://lh3.googleusercontent.com/a-/AOh14Gj4FSsAn36qN8GhyIglaEUhsQLXuERPYTjndXzdHsg=s64",
      "userId": "15339064382210101623"
     },
     "user_tz": -60
    },
    "id": "2KVx6gqeat6t",
    "outputId": "659232fc-6ea8-4074-f239-baf28f064f64"
   },
   "outputs": [
    {
     "data": {
      "text/plain": [
       "Date                   0\n",
       "Open                   0\n",
       "High                   0\n",
       "Low                    0\n",
       "Close                  0\n",
       "Volume                 0\n",
       "Adj Close              0\n",
       "avrg_last_5days        0\n",
       "Vol_avg_last5days      0\n",
       "avrg_last_30days       0\n",
       "Vol_avg_last30days     0\n",
       "avrg_last_365days      0\n",
       "Vol_avg_last365days    0\n",
       "std_last_5days         0\n",
       "std_vol_last5days      0\n",
       "std_last_30days        0\n",
       "std_vol_last30days     0\n",
       "std_last_365days       0\n",
       "std_vol_last365days    0\n",
       "dtype: int64"
      ]
     },
     "execution_count": 114,
     "metadata": {},
     "output_type": "execute_result"
    }
   ],
   "source": [
    "data.isnull().sum()\n",
    "#no need to drop any rows as they are no empty data"
   ]
  },
  {
   "cell_type": "code",
   "execution_count": 115,
   "metadata": {
    "id": "pnkM91J-dere"
   },
   "outputs": [],
   "source": [
    "data = data[data['Date'] > datetime(year=1951, month=1, day=2)]"
   ]
  },
  {
   "cell_type": "code",
   "execution_count": 116,
   "metadata": {
    "id": "wSBV4SAdcw8P"
   },
   "outputs": [],
   "source": [
    "#split train test\n",
    "train =  data[data['Date'] < datetime(year=2013, month=1, day=1)]\n",
    "test = data[data['Date'] >= datetime(year=2013, month=1, day=1)]"
   ]
  },
  {
   "cell_type": "code",
   "execution_count": 117,
   "metadata": {
    "colab": {
     "base_uri": "https://localhost:8080/"
    },
    "executionInfo": {
     "elapsed": 765,
     "status": "ok",
     "timestamp": 1606409494864,
     "user": {
      "displayName": "Thibaud Freyd",
      "photoUrl": "https://lh3.googleusercontent.com/a-/AOh14Gj4FSsAn36qN8GhyIglaEUhsQLXuERPYTjndXzdHsg=s64",
      "userId": "15339064382210101623"
     },
     "user_tz": -60
    },
    "id": "wAfWx126d2PS",
    "outputId": "27bf7365-a15f-4f8c-b9c4-df1e5c9478ff"
   },
   "outputs": [
    {
     "data": {
      "text/plain": [
       "(15601, 19)"
      ]
     },
     "execution_count": 117,
     "metadata": {},
     "output_type": "execute_result"
    }
   ],
   "source": [
    "train.shape"
   ]
  },
  {
   "cell_type": "markdown",
   "metadata": {
    "id": "Ht1Y46tSeMn1"
   },
   "source": [
    "### Make prediction\n",
    "\n",
    "we gonna use [linearegression](https://scikit-learn.org/stable/modules/generated/sklearn.linear_model.LinearRegression.html) and the error metric will the [mean absolute error](https://en.wikipedia.org/wiki/Mean_absolute_error) but the [|mean squared error] can also be used but less intuitive.\n",
    "\n",
    "We leave out all the original col"
   ]
  },
  {
   "cell_type": "code",
   "execution_count": 118,
   "metadata": {
    "id": "OH5hoaStd4Ig"
   },
   "outputs": [],
   "source": [
    "from sklearn.linear_model import LinearRegression"
   ]
  },
  {
   "cell_type": "code",
   "execution_count": 119,
   "metadata": {
    "id": "PlOH6reCg4Sq"
   },
   "outputs": [],
   "source": [
    "lr=LinearRegression()"
   ]
  },
  {
   "cell_type": "code",
   "execution_count": 120,
   "metadata": {
    "colab": {
     "base_uri": "https://localhost:8080/"
    },
    "executionInfo": {
     "elapsed": 751,
     "status": "ok",
     "timestamp": 1606410319558,
     "user": {
      "displayName": "Thibaud Freyd",
      "photoUrl": "https://lh3.googleusercontent.com/a-/AOh14Gj4FSsAn36qN8GhyIglaEUhsQLXuERPYTjndXzdHsg=s64",
      "userId": "15339064382210101623"
     },
     "user_tz": -60
    },
    "id": "qGrUf7ilhCFg",
    "outputId": "77e4c27d-d4ff-41fb-b068-1eb09e2c3b8a"
   },
   "outputs": [
    {
     "data": {
      "text/plain": [
       "Index(['Date', 'Open', 'High', 'Low', 'Close', 'Volume', 'Adj Close',\n",
       "       'avrg_last_5days', 'Vol_avg_last5days', 'avrg_last_30days',\n",
       "       'Vol_avg_last30days', 'avrg_last_365days', 'Vol_avg_last365days',\n",
       "       'std_last_5days', 'std_vol_last5days', 'std_last_30days',\n",
       "       'std_vol_last30days', 'std_last_365days', 'std_vol_last365days'],\n",
       "      dtype='object')"
      ]
     },
     "execution_count": 120,
     "metadata": {},
     "output_type": "execute_result"
    }
   ],
   "source": [
    "data.columns"
   ]
  },
  {
   "cell_type": "code",
   "execution_count": 121,
   "metadata": {},
   "outputs": [
    {
     "data": {
      "text/plain": [
       "std_vol_last5days      0.617935\n",
       "std_vol_last365days    0.684827\n",
       "std_vol_last30days     0.684980\n",
       "std_last_5days         0.723336\n",
       "Volume                 0.773326\n",
       "std_last_30days        0.779433\n",
       "Vol_avg_last5days      0.781393\n",
       "Vol_avg_last365days    0.785353\n",
       "Vol_avg_last30days     0.787395\n",
       "std_last_365days       0.816945\n",
       "avrg_last_365days      0.988923\n",
       "avrg_last_30days       0.999193\n",
       "avrg_last_5days        0.999794\n",
       "Open                   0.999900\n",
       "High                   0.999953\n",
       "Low                    0.999956\n",
       "Adj Close              1.000000\n",
       "Close                  1.000000\n",
       "Name: Close, dtype: float64"
      ]
     },
     "execution_count": 121,
     "metadata": {},
     "output_type": "execute_result"
    }
   ],
   "source": [
    "data.corr()['Close'].sort_values()"
   ]
  },
  {
   "cell_type": "code",
   "execution_count": 122,
   "metadata": {
    "id": "Qcwz7BezhAdP"
   },
   "outputs": [],
   "source": [
    "features=['avrg_last_5days', 'avrg_last_30days', 'avrg_last_365days',\n",
    "          'std_last_5days', 'std_last_30days', 'std_last_365days']"
   ]
  },
  {
   "cell_type": "code",
   "execution_count": 123,
   "metadata": {
    "colab": {
     "base_uri": "https://localhost:8080/"
    },
    "executionInfo": {
     "elapsed": 742,
     "status": "ok",
     "timestamp": 1606410532466,
     "user": {
      "displayName": "Thibaud Freyd",
      "photoUrl": "https://lh3.googleusercontent.com/a-/AOh14Gj4FSsAn36qN8GhyIglaEUhsQLXuERPYTjndXzdHsg=s64",
      "userId": "15339064382210101623"
     },
     "user_tz": -60
    },
    "id": "Oiu41TaahbU8",
    "outputId": "a259e953-cac2-4d65-e7ea-32dfd8655bce"
   },
   "outputs": [
    {
     "data": {
      "text/plain": [
       "LinearRegression(copy_X=True, fit_intercept=True, n_jobs=None, normalize=False)"
      ]
     },
     "execution_count": 123,
     "metadata": {},
     "output_type": "execute_result"
    }
   ],
   "source": [
    "#fitting model\n",
    "lr.fit(train[features],train['Close'])"
   ]
  },
  {
   "cell_type": "code",
   "execution_count": 124,
   "metadata": {
    "id": "ZAz9ixIahiDd"
   },
   "outputs": [],
   "source": [
    "predictions=lr.predict(test[features])"
   ]
  },
  {
   "cell_type": "code",
   "execution_count": 125,
   "metadata": {
    "id": "DfNOM2PmiBtQ"
   },
   "outputs": [],
   "source": [
    "from sklearn.metrics import mean_absolute_error "
   ]
  },
  {
   "cell_type": "code",
   "execution_count": 126,
   "metadata": {
    "colab": {
     "base_uri": "https://localhost:8080/"
    },
    "executionInfo": {
     "elapsed": 751,
     "status": "ok",
     "timestamp": 1606410750314,
     "user": {
      "displayName": "Thibaud Freyd",
      "photoUrl": "https://lh3.googleusercontent.com/a-/AOh14Gj4FSsAn36qN8GhyIglaEUhsQLXuERPYTjndXzdHsg=s64",
      "userId": "15339064382210101623"
     },
     "user_tz": -60
    },
    "id": "LqFLt__4iXEn",
    "outputId": "253a982b-c43e-4e1e-baa3-bdf03e14930c"
   },
   "outputs": [
    {
     "data": {
      "text/plain": [
       "16.214135818661475"
      ]
     },
     "execution_count": 126,
     "metadata": {},
     "output_type": "execute_result"
    }
   ],
   "source": [
    "mean_absolute_error(test['Close'],predictions)"
   ]
  },
  {
   "cell_type": "code",
   "execution_count": 127,
   "metadata": {
    "id": "8vyKyAVUiXvU"
   },
   "outputs": [],
   "source": [
    "import matplotlib.pyplot as plt"
   ]
  },
  {
   "cell_type": "code",
   "execution_count": 128,
   "metadata": {
    "colab": {
     "base_uri": "https://localhost:8080/",
     "height": 500
    },
    "executionInfo": {
     "elapsed": 1173,
     "status": "ok",
     "timestamp": 1606411455222,
     "user": {
      "displayName": "Thibaud Freyd",
      "photoUrl": "https://lh3.googleusercontent.com/a-/AOh14Gj4FSsAn36qN8GhyIglaEUhsQLXuERPYTjndXzdHsg=s64",
      "userId": "15339064382210101623"
     },
     "user_tz": -60
    },
    "id": "ChaBW9EfjC4D",
    "outputId": "a0898240-24e7-404b-c143-b8e3ac372fdc"
   },
   "outputs": [
    {
     "data": {
      "text/plain": [
       "<matplotlib.legend.Legend at 0x7fd0c8d31b10>"
      ]
     },
     "execution_count": 128,
     "metadata": {},
     "output_type": "execute_result"
    },
    {
     "data": {
      "image/png": "[encoded data removed]",
      "text/plain": [
       "<Figure size 1152x576 with 1 Axes>"
      ]
     },
     "metadata": {
      "needs_background": "light"
     },
     "output_type": "display_data"
    }
   ],
   "source": [
    "plt.figure(figsize=(16,8))\n",
    "plt.plot(test['Date'],predictions,label='prediction',color='C1')\n",
    "plt.plot(test['Date'],test['Close'],label='reality',color='darkgrey')\n",
    "plt.legend()"
   ]
  },
  {
   "cell_type": "markdown",
   "metadata": {
    "id": "NWkO7yFHkvOl"
   },
   "source": [
    "we can observe that the model is always delayed compared to reality but could be expected"
   ]
  },
  {
   "cell_type": "markdown",
   "metadata": {
    "id": "vgqNI9jzmMKr"
   },
   "source": [
    "### second model with Volume features\n",
    "the selection of the features will be done by ranking the columns based on their correlation and trained several models then compute and plot the RMSE to know which one look like the best number of features"
   ]
  },
  {
   "cell_type": "code",
   "execution_count": 129,
   "metadata": {},
   "outputs": [],
   "source": [
    "all_features=data.corr()['Close'].sort_values(ascending=False).index"
   ]
  },
  {
   "cell_type": "code",
   "execution_count": 130,
   "metadata": {},
   "outputs": [],
   "source": [
    "all_features=all_features.drop(['Open', 'High', 'Low', 'Close', 'Volume', 'Adj Close'])"
   ]
  },
  {
   "cell_type": "code",
   "execution_count": 131,
   "metadata": {},
   "outputs": [
    {
     "data": {
      "text/plain": [
       "Index(['avrg_last_5days', 'avrg_last_30days', 'avrg_last_365days',\n",
       "       'std_last_365days', 'Vol_avg_last30days', 'Vol_avg_last365days',\n",
       "       'Vol_avg_last5days', 'std_last_30days', 'std_last_5days',\n",
       "       'std_vol_last30days', 'std_vol_last365days', 'std_vol_last5days'],\n",
       "      dtype='object')"
      ]
     },
     "execution_count": 131,
     "metadata": {},
     "output_type": "execute_result"
    }
   ],
   "source": [
    "all_features"
   ]
  },
  {
   "cell_type": "code",
   "execution_count": 132,
   "metadata": {},
   "outputs": [],
   "source": [
    "\n",
    "max_all_features=len(all_features)\n",
    "#index_last_feature=1\n",
    "all_mse=[]\n",
    "features_used=[]\n",
    "for i in range(1,max_all_features+1):\n",
    "    features2=all_features[0:i]\n",
    "    lr2=LinearRegression()\n",
    "    lr2.fit(train[features2],train['Close'])\n",
    "    predictions2=lr2.predict(test[features2])\n",
    "    mse=mean_absolute_error(test['Close'],predictions2)\n",
    "    features_used.append(list(features2))\n",
    "    all_mse.append(mse)"
   ]
  },
  {
   "cell_type": "code",
   "execution_count": 133,
   "metadata": {},
   "outputs": [],
   "source": [
    "#find the optimal number of features\n",
    "opti_n_features=all_mse.index(min(all_mse))"
   ]
  },
  {
   "cell_type": "code",
   "execution_count": 134,
   "metadata": {},
   "outputs": [
    {
     "data": {
      "text/plain": [
       "['avrg_last_5days']"
      ]
     },
     "execution_count": 134,
     "metadata": {},
     "output_type": "execute_result"
    }
   ],
   "source": [
    "features_used[0]"
   ]
  },
  {
   "cell_type": "code",
   "execution_count": 135,
   "metadata": {},
   "outputs": [
    {
     "data": {
      "text/plain": [
       "Text(0.5, 1.0, 'MSE vs n features')"
      ]
     },
     "execution_count": 135,
     "metadata": {},
     "output_type": "execute_result"
    },
    {
     "data": {
      "image/png": "[encoded data removed]",
      "text/plain": [
       "<Figure size 576x288 with 1 Axes>"
      ]
     },
     "metadata": {
      "needs_background": "light"
     },
     "output_type": "display_data"
    }
   ],
   "source": [
    "plt.figure(figsize=(8,4))\n",
    "plt.plot(range(1,len(all_mse)+1),all_mse)\n",
    "plt.xlabel('number of features',size=12)\n",
    "plt.ylabel('MSE in $',size=12)\n",
    "plt.title(\"MSE vs n features\",size=14)"
   ]
  },
  {
   "cell_type": "code",
   "execution_count": 136,
   "metadata": {},
   "outputs": [
    {
     "data": {
      "text/plain": [
       "16.20660834876921"
      ]
     },
     "execution_count": 136,
     "metadata": {},
     "output_type": "execute_result"
    }
   ],
   "source": [
    "best_features=all_features[0:opti_n_features]\n",
    "lr3=LinearRegression()\n",
    "lr3.fit(train[best_features],train['Close'])\n",
    "predictions3=lr3.predict(test[best_features])\n",
    "mse=mean_absolute_error(test['Close'],predictions3)\n",
    "mse"
   ]
  },
  {
   "cell_type": "code",
   "execution_count": 137,
   "metadata": {},
   "outputs": [
    {
     "data": {
      "text/plain": [
       "Index(['avrg_last_5days', 'avrg_last_30days', 'avrg_last_365days',\n",
       "       'std_last_365days', 'Vol_avg_last30days', 'Vol_avg_last365days',\n",
       "       'Vol_avg_last5days', 'std_last_30days', 'std_last_5days',\n",
       "       'std_vol_last30days'],\n",
       "      dtype='object')"
      ]
     },
     "execution_count": 137,
     "metadata": {},
     "output_type": "execute_result"
    }
   ],
   "source": [
    "best_features"
   ]
  },
  {
   "cell_type": "code",
   "execution_count": 138,
   "metadata": {},
   "outputs": [
    {
     "data": {
      "text/plain": [
       "<matplotlib.legend.Legend at 0x7fd0c980b250>"
      ]
     },
     "execution_count": 138,
     "metadata": {},
     "output_type": "execute_result"
    },
    {
     "data": {
      "image/png": "[encoded data removed]",
      "text/plain": [
       "<Figure size 1728x720 with 1 Axes>"
      ]
     },
     "metadata": {
      "needs_background": "light"
     },
     "output_type": "display_data"
    }
   ],
   "source": [
    "plt.figure(figsize=(24,10))\n",
    "plt.plot(test['Date'],predictions,label='prediction model1',color='C1')\n",
    "plt.plot(test['Date'],predictions3,label='prediction model lowest MSE',color='C2')\n",
    "plt.plot(test['Date'],test['Close'],label='reality',color='darkgrey')\n",
    "plt.legend()"
   ]
  },
  {
   "cell_type": "markdown",
   "metadata": {},
   "source": [
    "### to go further:\n",
    "Here a few other indicators to go further, they should be computing at the same time than the others before the train/test split and the remove of NaN.\n",
    "\n",
    "- The average volume over the past five days. DONE\n",
    "- The average volume over the past 30 days. DONE\n",
    "- The average volume over the past year. DONE\n",
    "- The ratio between the average volume for the past five days, and the average volume for the past year.\n",
    "- The standard deviation of the average volume over the past five days.\n",
    "- The standard deviation of the average volume over the past year.\n",
    "- The ratio between the standard deviation of the average volume for the past five days, and the standard deviation of the average volume for the past year.\n",
    "- The year component of the date.\n",
    "- The ratio between the lowest price in the past year and the current price.\n",
    "- The ratio between the highest price in the past year and the current price.\n",
    "- The month component of the date.\n",
    "- The day of week.\n",
    "- The day component of the date.\n",
    "- The number of holidays in the prior month.\n",
    "\n",
    "- The average volume over the past year.\n",
    "- The ratio between the average volume for the past five days, and the average volume for the past year.\n",
    "- The standard deviation of the average volume over the past five days.\n",
    "- The standard deviation of the average volume over the past year.\n",
    "- The ratio between the standard deviation of the average volume for the past five days, and the standard deviation of the average volume for the past year.\n",
    "- The year component of the date.\n",
    "- The ratio between the lowest price in the past year and the current price.\n",
    "- The ratio between the highest price in the past year and the current price.\n",
    "- The month component of the date.\n",
    "- The day of week.\n",
    "- The day component of the date.\n",
    "- The number of holidays in the prior month.\n",
    "\n",
    "\n",
    "Accuracy would improve greatly by making predictions only one day ahead. For example, train a model using data from 1951-01-03 to 2013-01-02, make predictions for 2013-01-03, and then train another model using data from 1951-01-03 to 2013-01-03, make predictions for 2013-01-04, and so on. This more closely simulates what you'd do if you were trading using the algorithm.\n",
    "\n",
    "You can also improve the algorithm used significantly. Try other techniques, like a random forest, and see if they perform better.\n",
    "\n",
    "You can also incorporate outside data, such as the weather in New York City (where most trading happens) the day before, and the amount of Twitter activity around certain stocks.\n",
    "\n",
    "You can also make the system real-time by writing an automated script to download the latest data when the market closes, and make predictions for the next day.\n",
    "\n",
    "Finally, you can make the system \"higher-resolution\". You're currently making daily predictions, but you could make hourly, minute-by-minute, or second by second predictions. This will require obtaining more data, though. You could also make predictions for individual stocks instead of the S&P500."
   ]
  },
  {
   "cell_type": "code",
   "execution_count": null,
   "metadata": {},
   "outputs": [],
   "source": []
  }
 ],
 "metadata": {
  "colab": {
   "authorship_tag": "ABX9TyPjc9H2RToEcVxEvMVApEHb",
   "collapsed_sections": [],
   "mount_file_id": "1Kf7NORbzk0dHTntXmWsdCkVIa-qe8hSs",
   "name": "Guide project- stocked market.ipynb",
   "provenance": []
  },
  "kernelspec": {
   "display_name": "Python 3",
   "language": "python",
   "name": "python3"
  },
  "language_info": {
   "codemirror_mode": {
    "name": "ipython",
    "version": 3
   },
   "file_extension": ".py",
   "mimetype": "text/x-python",
   "name": "python",
   "nbconvert_exporter": "python",
   "pygments_lexer": "ipython3",
   "version": "3.7.6"
  }
 },
 "nbformat": 4,
 "nbformat_minor": 1
}
